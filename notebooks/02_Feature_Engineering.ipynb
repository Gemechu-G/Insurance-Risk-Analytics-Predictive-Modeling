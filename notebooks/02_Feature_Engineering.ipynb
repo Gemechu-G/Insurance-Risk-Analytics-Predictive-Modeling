{
 "cells": [
  {
   "cell_type": "code",
   "execution_count": null,
   "id": "340c9bdf",
   "metadata": {},
   "outputs": [],
   "source": [
    "import pandas as pd\n",
    "from sklearn.model_selection import train_test_split\n",
    "from sklearn.preprocessing import LabelEncoder, OneHotEncoder, StandardScaler\n",
    "from sklearn.compose import ColumnTransformer\n",
    "from sklearn.pipeline import Pipeline\n",
    "from sklearn.metrics import mean_squared_error, r2_score, accuracy_score, precision_score, recall_score, f1_score, roc_auc_score, roc_curve\n",
    "import numpy as np\n",
    "import matplotlib.pyplot as plt\n",
    "import seaborn as sns\n",
    "import xgboost as xgb\n",
    "from sklearn.ensemble import RandomForestRegressor, RandomForestClassifier\n",
    "from sklearn.linear_model import LinearRegression, LogisticRegression\n",
    "# For model interpretability\n",
    "import shap\n",
    "# Make sure you've installed these: pip install pandas numpy scikit-learn matplotlib seaborn xgboost shap"
   ]
  },
  {
   "cell_type": "code",
   "execution_count": null,
   "id": "b409850a",
   "metadata": {},
   "outputs": [],
   "source": [
    "# Load data (adjust path if needed)\n",
    "df = pd.read_csv(\n",
    "    \"../data/insurance.csv\", # Or processed_insurance_v1.csv if you used it in DVC\n",
    "    parse_dates=['TransactionMonth'],\n",
    "    dtype={'PostalCode': 'str'}\n",
    ")\n",
    "df['TransactionMonth'] = pd.to_datetime(df['TransactionMonth'])\n",
    "# Convert numerical columns if they were loaded incorrectly\n",
    "numeric_cols = ['TotalPremium', 'TotalClaims', 'CustomValueEstimate', 'CalculatedPremiumPerTerm', 'SumInsured', 'Kilowatts', 'Cubiccapacity']\n",
    "for col in numeric_cols:\n",
    "    df[col] = pd.to_numeric(df[col], errors='coerce')"
   ]
  },
  {
   "cell_type": "code",
   "execution_count": null,
   "id": "5c9a75b7",
   "metadata": {},
   "outputs": [],
   "source": [
    "# Example: Simple imputation for numerical columns\n",
    "for col in df.select_dtypes(include=np.number).columns:\n",
    "    if df[col].isnull().sum() > 0:\n",
    "        df[col] = df[col].fillna(df[col].median()) # Or .mean()\n",
    "\n",
    "# Example: Imputation for categorical columns with 'Missing'\n",
    "for col in df.select_dtypes(include='object').columns:\n",
    "    if df[col].isnull().sum() > 0:\n",
    "        df[col] = df[col].fillna('Missing')"
   ]
  },
  {
   "cell_type": "code",
   "execution_count": null,
   "id": "68f4c1e4",
   "metadata": {},
   "outputs": [],
   "source": [
    "df['VehicleAge'] = df['TransactionMonth'].dt.year - df['RegistrationYear']\n",
    "df['HasAlarmImmobiliser_Binary'] = df['AlarmImmobiliser'].apply(lambda x: 1 if x == 'Y' else 0)\n",
    "df['HasTrackingDevice_Binary'] = df['TrackingDevice'].apply(lambda x: 1 if x == 'Y' else 0)\n",
    "df['IsNewVehicle_Binary'] = df['NewVehicle'].apply(lambda x: 1 if x == 'Y' else 0)\n",
    "# Handle division by zero for ClaimsPerVehicleInFleet\n",
    "df['ClaimsPerVehicleInFleet'] = df.apply(lambda row: row['TotalClaims'] / row['NumberOfVehiclesInFleet'] if row['NumberOfVehiclesInFleet'] > 0 else 0, axis=1)\n",
    "\n",
    "# Convert binary flags to appropriate types (e.g., bool or int)\n",
    "df['IsVATRegistered'] = df['IsVATRegistered'].map({'Y': 1, 'N': 0}).fillna(0).astype(int) # Assuming default N\n",
    "df['WrittenOff'] = df['WrittenOff'].map({'Y': 1, 'N': 0}).fillna(0).astype(int)\n",
    "df['Rebuilt'] = df['Rebuilt'].map({'Y': 1, 'N': 0}).fillna(0).astype(int)\n",
    "df['Converted'] = df['Converted'].map({'Y': 1, 'N': 0}).fillna(0).astype(int)\n",
    "df['CrossBorder'] = df['CrossBorder'].map({'Y': 1, 'N': 0}).fillna(0).astype(int)\n",
    "\n",
    "# Feature from gender hypothesis (ensure 'Gender' is clean from Task 3)\n",
    "df['Gender_Female'] = df['Gender'].apply(lambda x: 1 if x == 'Female' else 0)"
   ]
  }
 ],
 "metadata": {
  "language_info": {
   "name": "python"
  }
 },
 "nbformat": 4,
 "nbformat_minor": 5
}
