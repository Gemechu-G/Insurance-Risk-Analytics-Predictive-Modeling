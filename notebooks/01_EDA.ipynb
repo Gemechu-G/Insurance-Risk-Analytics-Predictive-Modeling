{
 "cells": [
  {
   "cell_type": "code",
   "execution_count": 1,
   "id": "144e1e38",
   "metadata": {},
   "outputs": [
    {
     "ename": "ModuleNotFoundError",
     "evalue": "No module named 'matplotlib'",
     "output_type": "error",
     "traceback": [
      "\u001b[31m---------------------------------------------------------------------------\u001b[39m",
      "\u001b[31mModuleNotFoundError\u001b[39m                       Traceback (most recent call last)",
      "\u001b[36mCell\u001b[39m\u001b[36m \u001b[39m\u001b[32mIn[1]\u001b[39m\u001b[32m, line 3\u001b[39m\n\u001b[32m      1\u001b[39m \u001b[38;5;28;01mimport\u001b[39;00m\u001b[38;5;250m \u001b[39m\u001b[34;01mpandas\u001b[39;00m\u001b[38;5;250m \u001b[39m\u001b[38;5;28;01mas\u001b[39;00m\u001b[38;5;250m \u001b[39m\u001b[34;01mpd\u001b[39;00m\n\u001b[32m      2\u001b[39m \u001b[38;5;28;01mimport\u001b[39;00m\u001b[38;5;250m \u001b[39m\u001b[34;01mnumpy\u001b[39;00m\u001b[38;5;250m \u001b[39m\u001b[38;5;28;01mas\u001b[39;00m\u001b[38;5;250m \u001b[39m\u001b[34;01mnp\u001b[39;00m\n\u001b[32m----> \u001b[39m\u001b[32m3\u001b[39m \u001b[38;5;28;01mimport\u001b[39;00m\u001b[38;5;250m \u001b[39m\u001b[34;01mmatplotlib\u001b[39;00m\u001b[34;01m.\u001b[39;00m\u001b[34;01mpyplot\u001b[39;00m\u001b[38;5;250m \u001b[39m\u001b[38;5;28;01mas\u001b[39;00m\u001b[38;5;250m \u001b[39m\u001b[34;01mplt\u001b[39;00m\n\u001b[32m      4\u001b[39m \u001b[38;5;28;01mimport\u001b[39;00m\u001b[38;5;250m \u001b[39m\u001b[34;01mseaborn\u001b[39;00m\u001b[38;5;250m \u001b[39m\u001b[38;5;28;01mas\u001b[39;00m\u001b[38;5;250m \u001b[39m\u001b[34;01msns\u001b[39;00m\n\u001b[32m      6\u001b[39m \u001b[38;5;66;03m# Load data with proper parsing\u001b[39;00m\n",
      "\u001b[31mModuleNotFoundError\u001b[39m: No module named 'matplotlib'"
     ]
    }
   ],
   "source": [
    "import pandas as pd\n",
    "import numpy as np\n",
    "import matplotlib.pyplot as plt\n",
    "import seaborn as sns\n",
    "\n",
    "# Load data with proper parsing\n",
    "df = pd.read_csv(\n",
    "    \"../data/insurance_data.csv\",\n",
    "    parse_dates=['TransactionMonth'],\n",
    "    dtype={'PostalCode': 'str'}\n",
    ")\n",
    "\n",
    "# Initial inspection\n",
    "print(f\"Dataset dimensions: {df.shape}\")\n",
    "print(\"\\nMissing values per column:\")\n",
    "print(df.isnull().sum().sort_values(ascending=False))"
   ]
  },
  {
   "cell_type": "code",
   "execution_count": null,
   "id": "1b7df7ee",
   "metadata": {},
   "outputs": [
    {
     "ename": "",
     "evalue": "",
     "output_type": "error",
     "traceback": [
      "\u001b[1;31mRunning cells with '.venv (Python 3.13.4)' requires the ipykernel package.\n",
      "\u001b[1;31mInstall 'ipykernel' into the Python environment. \n",
      "\u001b[1;31mCommand: 'c:/Users/koffy/Desktop/KIFIYA/Insurance-Risk-Analytics-Predictive-Modeling/.venv/Scripts/python.exe -m pip install ipykernel -U --force-reinstall'"
     ]
    }
   ],
   "source": [
    "# Calculate Loss Ratio (Primary KPI)\n",
    "df['LossRatio'] = df['TotalClaims'] / df['TotalPremium']\n",
    "\n",
    "# Add risk flags\n",
    "df['HasClaim'] = np.where(df['TotalClaims'] > 0, 1, 0)\n",
    "df['ClaimSeverity'] = np.where(\n",
    "    df['HasClaim'] == 1,\n",
    "    df['TotalClaims'],\n",
    "    np.nan\n",
    ")"
   ]
  },
  {
   "cell_type": "code",
   "execution_count": null,
   "id": "f45adb73",
   "metadata": {},
   "outputs": [
    {
     "ename": "",
     "evalue": "",
     "output_type": "error",
     "traceback": [
      "\u001b[1;31mRunning cells with '.venv (Python 3.13.4)' requires the ipykernel package.\n",
      "\u001b[1;31mInstall 'ipykernel' into the Python environment. \n",
      "\u001b[1;31mCommand: 'c:/Users/koffy/Desktop/KIFIYA/Insurance-Risk-Analytics-Predictive-Modeling/.venv/Scripts/python.exe -m pip install ipykernel -U --force-reinstall'"
     ]
    }
   ],
   "source": [
    "plt.figure(figsize=(12,6))\n",
    "df.resample('M', on='TransactionMonth')['HasClaim'].mean().plot(\n",
    "    title='Monthly Claim Frequency',\n",
    "    ylabel='Claim Rate'\n",
    ")\n",
    "plt.axhline(\n",
    "    df['HasClaim'].mean(),\n",
    "    color='red',\n",
    "    linestyle='--',\n",
    "    label='Overall Mean'\n",
    ")\n",
    "plt.legend()"
   ]
  },
  {
   "cell_type": "code",
   "execution_count": null,
   "id": "52ae2294",
   "metadata": {},
   "outputs": [],
   "source": [
    "# Province-level analysis\n",
    "province_stats = df.groupby('Province').agg({\n",
    "    'LossRatio': 'mean',\n",
    "    'HasClaim': 'mean',\n",
    "    'TotalPremium': 'mean'\n",
    "}).sort_values('LossRatio', ascending=False)\n",
    "\n",
    "plt.figure(figsize=(10,6))\n",
    "sns.heatmap(\n",
    "    province_stats.T,\n",
    "    annot=True,\n",
    "    fmt=\".2f\",\n",
    "    cmap=\"YlOrRd\"\n",
    ")\n",
    "plt.title(\"Province-Level Risk Metrics\")"
   ]
  },
  {
   "cell_type": "code",
   "execution_count": null,
   "id": "72ac58cc",
   "metadata": {},
   "outputs": [],
   "source": [
    "# Top 10 highest claim vehicles\n",
    "top_risky = df.groupby('Make').agg({\n",
    "    'HasClaim': 'mean',\n",
    "    'ClaimSeverity': 'mean'\n",
    "}).nlargest(10, 'HasClaim')\n",
    "\n",
    "sns.scatterplot(\n",
    "    data=top_risky,\n",
    "    x='HasClaim',\n",
    "    y='ClaimSeverity',\n",
    "    hue=top_risky.index,\n",
    "    s=100\n",
    ")\n",
    "plt.title(\"High-Risk Vehicle Identification\")"
   ]
  },
  {
   "cell_type": "code",
   "execution_count": null,
   "id": "bb44e28c",
   "metadata": {},
   "outputs": [],
   "source": [
    "# Check premium distribution\n",
    "plt.figure(figsize=(10,6))\n",
    "sns.histplot(\n",
    "    df['TotalPremium'],\n",
    "    kde=True,\n",
    "    bins=50\n",
    ")\n",
    "plt.xlim(0, df['TotalPremium'].quantile(0.95))  # Remove extreme outliers\n",
    "\n",
    "# QQ-Plot for normality check\n",
    "import scipy.stats as stats\n",
    "stats.probplot(df['TotalPremium'], plot=plt)"
   ]
  }
 ],
 "metadata": {
  "kernelspec": {
   "display_name": ".venv",
   "language": "python",
   "name": "python3"
  },
  "language_info": {
   "codemirror_mode": {
    "name": "ipython",
    "version": 3
   },
   "file_extension": ".py",
   "mimetype": "text/x-python",
   "name": "python",
   "nbconvert_exporter": "python",
   "pygments_lexer": "ipython3",
   "version": "3.13.4"
  }
 },
 "nbformat": 4,
 "nbformat_minor": 5
}
